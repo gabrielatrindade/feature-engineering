{
 "cells": [
  {
   "cell_type": "markdown",
   "id": "6bb21a39",
   "metadata": {},
   "source": [
    "https://medium.com/analytics-vidhya/feature-engineering-using-featuretools-with-code-10f8c83e5f68\n",
    "\n",
    "The objective is to build a predictive model to estimate the sales of each product at a particular store. This would help the decision-makers at BigMart to find out the properties of any product or store, which play a key role in increasing the overall sales."
   ]
  },
  {
   "cell_type": "code",
   "execution_count": 1,
   "id": "a63b8bb1",
   "metadata": {},
   "outputs": [],
   "source": [
    "import featuretools as ft\n",
    "import numpy as np\n",
    "import pandas as pd"
   ]
  },
  {
   "cell_type": "code",
   "execution_count": 2,
   "id": "01336efb",
   "metadata": {},
   "outputs": [],
   "source": [
    "train = pd.read_csv('data/train.csv')\n",
    "test = pd.read_csv('data/test.csv')"
   ]
  },
  {
   "cell_type": "code",
   "execution_count": 3,
   "id": "39d1b62d",
   "metadata": {},
   "outputs": [
    {
     "data": {
      "text/html": [
       "<div>\n",
       "<style scoped>\n",
       "    .dataframe tbody tr th:only-of-type {\n",
       "        vertical-align: middle;\n",
       "    }\n",
       "\n",
       "    .dataframe tbody tr th {\n",
       "        vertical-align: top;\n",
       "    }\n",
       "\n",
       "    .dataframe thead th {\n",
       "        text-align: right;\n",
       "    }\n",
       "</style>\n",
       "<table border=\"1\" class=\"dataframe\">\n",
       "  <thead>\n",
       "    <tr style=\"text-align: right;\">\n",
       "      <th></th>\n",
       "      <th>Item_Identifier</th>\n",
       "      <th>Item_Weight</th>\n",
       "      <th>Item_Fat_Content</th>\n",
       "      <th>Item_Visibility</th>\n",
       "      <th>Item_Type</th>\n",
       "      <th>Item_MRP</th>\n",
       "      <th>Outlet_Identifier</th>\n",
       "      <th>Outlet_Establishment_Year</th>\n",
       "      <th>Outlet_Size</th>\n",
       "      <th>Outlet_Location_Type</th>\n",
       "      <th>Outlet_Type</th>\n",
       "      <th>Item_Outlet_Sales</th>\n",
       "    </tr>\n",
       "  </thead>\n",
       "  <tbody>\n",
       "    <tr>\n",
       "      <th>0</th>\n",
       "      <td>FDA15</td>\n",
       "      <td>9.30</td>\n",
       "      <td>Low Fat</td>\n",
       "      <td>0.016047</td>\n",
       "      <td>Dairy</td>\n",
       "      <td>249.8092</td>\n",
       "      <td>OUT049</td>\n",
       "      <td>1999</td>\n",
       "      <td>Medium</td>\n",
       "      <td>Tier 1</td>\n",
       "      <td>Supermarket Type1</td>\n",
       "      <td>3735.1380</td>\n",
       "    </tr>\n",
       "    <tr>\n",
       "      <th>1</th>\n",
       "      <td>DRC01</td>\n",
       "      <td>5.92</td>\n",
       "      <td>Regular</td>\n",
       "      <td>0.019278</td>\n",
       "      <td>Soft Drinks</td>\n",
       "      <td>48.2692</td>\n",
       "      <td>OUT018</td>\n",
       "      <td>2009</td>\n",
       "      <td>Medium</td>\n",
       "      <td>Tier 3</td>\n",
       "      <td>Supermarket Type2</td>\n",
       "      <td>443.4228</td>\n",
       "    </tr>\n",
       "    <tr>\n",
       "      <th>2</th>\n",
       "      <td>FDN15</td>\n",
       "      <td>17.50</td>\n",
       "      <td>Low Fat</td>\n",
       "      <td>0.016760</td>\n",
       "      <td>Meat</td>\n",
       "      <td>141.6180</td>\n",
       "      <td>OUT049</td>\n",
       "      <td>1999</td>\n",
       "      <td>Medium</td>\n",
       "      <td>Tier 1</td>\n",
       "      <td>Supermarket Type1</td>\n",
       "      <td>2097.2700</td>\n",
       "    </tr>\n",
       "    <tr>\n",
       "      <th>3</th>\n",
       "      <td>FDX07</td>\n",
       "      <td>19.20</td>\n",
       "      <td>Regular</td>\n",
       "      <td>0.000000</td>\n",
       "      <td>Fruits and Vegetables</td>\n",
       "      <td>182.0950</td>\n",
       "      <td>OUT010</td>\n",
       "      <td>1998</td>\n",
       "      <td>NaN</td>\n",
       "      <td>Tier 3</td>\n",
       "      <td>Grocery Store</td>\n",
       "      <td>732.3800</td>\n",
       "    </tr>\n",
       "    <tr>\n",
       "      <th>4</th>\n",
       "      <td>NCD19</td>\n",
       "      <td>8.93</td>\n",
       "      <td>Low Fat</td>\n",
       "      <td>0.000000</td>\n",
       "      <td>Household</td>\n",
       "      <td>53.8614</td>\n",
       "      <td>OUT013</td>\n",
       "      <td>1987</td>\n",
       "      <td>High</td>\n",
       "      <td>Tier 3</td>\n",
       "      <td>Supermarket Type1</td>\n",
       "      <td>994.7052</td>\n",
       "    </tr>\n",
       "  </tbody>\n",
       "</table>\n",
       "</div>"
      ],
      "text/plain": [
       "  Item_Identifier  Item_Weight Item_Fat_Content  Item_Visibility  \\\n",
       "0           FDA15         9.30          Low Fat         0.016047   \n",
       "1           DRC01         5.92          Regular         0.019278   \n",
       "2           FDN15        17.50          Low Fat         0.016760   \n",
       "3           FDX07        19.20          Regular         0.000000   \n",
       "4           NCD19         8.93          Low Fat         0.000000   \n",
       "\n",
       "               Item_Type  Item_MRP Outlet_Identifier  \\\n",
       "0                  Dairy  249.8092            OUT049   \n",
       "1            Soft Drinks   48.2692            OUT018   \n",
       "2                   Meat  141.6180            OUT049   \n",
       "3  Fruits and Vegetables  182.0950            OUT010   \n",
       "4              Household   53.8614            OUT013   \n",
       "\n",
       "   Outlet_Establishment_Year Outlet_Size Outlet_Location_Type  \\\n",
       "0                       1999      Medium               Tier 1   \n",
       "1                       2009      Medium               Tier 3   \n",
       "2                       1999      Medium               Tier 1   \n",
       "3                       1998         NaN               Tier 3   \n",
       "4                       1987        High               Tier 3   \n",
       "\n",
       "         Outlet_Type  Item_Outlet_Sales  \n",
       "0  Supermarket Type1          3735.1380  \n",
       "1  Supermarket Type2           443.4228  \n",
       "2  Supermarket Type1          2097.2700  \n",
       "3      Grocery Store           732.3800  \n",
       "4  Supermarket Type1           994.7052  "
      ]
     },
     "execution_count": 3,
     "metadata": {},
     "output_type": "execute_result"
    }
   ],
   "source": [
    "train.head()"
   ]
  },
  {
   "cell_type": "code",
   "execution_count": 4,
   "id": "edfdc173",
   "metadata": {},
   "outputs": [
    {
     "data": {
      "text/html": [
       "<div>\n",
       "<style scoped>\n",
       "    .dataframe tbody tr th:only-of-type {\n",
       "        vertical-align: middle;\n",
       "    }\n",
       "\n",
       "    .dataframe tbody tr th {\n",
       "        vertical-align: top;\n",
       "    }\n",
       "\n",
       "    .dataframe thead th {\n",
       "        text-align: right;\n",
       "    }\n",
       "</style>\n",
       "<table border=\"1\" class=\"dataframe\">\n",
       "  <thead>\n",
       "    <tr style=\"text-align: right;\">\n",
       "      <th></th>\n",
       "      <th>Item_Identifier</th>\n",
       "      <th>Item_Weight</th>\n",
       "      <th>Item_Fat_Content</th>\n",
       "      <th>Item_Visibility</th>\n",
       "      <th>Item_Type</th>\n",
       "      <th>Item_MRP</th>\n",
       "      <th>Outlet_Identifier</th>\n",
       "      <th>Outlet_Establishment_Year</th>\n",
       "      <th>Outlet_Size</th>\n",
       "      <th>Outlet_Location_Type</th>\n",
       "      <th>Outlet_Type</th>\n",
       "    </tr>\n",
       "  </thead>\n",
       "  <tbody>\n",
       "    <tr>\n",
       "      <th>0</th>\n",
       "      <td>FDW58</td>\n",
       "      <td>20.750</td>\n",
       "      <td>Low Fat</td>\n",
       "      <td>0.007565</td>\n",
       "      <td>Snack Foods</td>\n",
       "      <td>107.8622</td>\n",
       "      <td>OUT049</td>\n",
       "      <td>1999</td>\n",
       "      <td>Medium</td>\n",
       "      <td>Tier 1</td>\n",
       "      <td>Supermarket Type1</td>\n",
       "    </tr>\n",
       "    <tr>\n",
       "      <th>1</th>\n",
       "      <td>FDW14</td>\n",
       "      <td>8.300</td>\n",
       "      <td>reg</td>\n",
       "      <td>0.038428</td>\n",
       "      <td>Dairy</td>\n",
       "      <td>87.3198</td>\n",
       "      <td>OUT017</td>\n",
       "      <td>2007</td>\n",
       "      <td>NaN</td>\n",
       "      <td>Tier 2</td>\n",
       "      <td>Supermarket Type1</td>\n",
       "    </tr>\n",
       "    <tr>\n",
       "      <th>2</th>\n",
       "      <td>NCN55</td>\n",
       "      <td>14.600</td>\n",
       "      <td>Low Fat</td>\n",
       "      <td>0.099575</td>\n",
       "      <td>Others</td>\n",
       "      <td>241.7538</td>\n",
       "      <td>OUT010</td>\n",
       "      <td>1998</td>\n",
       "      <td>NaN</td>\n",
       "      <td>Tier 3</td>\n",
       "      <td>Grocery Store</td>\n",
       "    </tr>\n",
       "    <tr>\n",
       "      <th>3</th>\n",
       "      <td>FDQ58</td>\n",
       "      <td>7.315</td>\n",
       "      <td>Low Fat</td>\n",
       "      <td>0.015388</td>\n",
       "      <td>Snack Foods</td>\n",
       "      <td>155.0340</td>\n",
       "      <td>OUT017</td>\n",
       "      <td>2007</td>\n",
       "      <td>NaN</td>\n",
       "      <td>Tier 2</td>\n",
       "      <td>Supermarket Type1</td>\n",
       "    </tr>\n",
       "    <tr>\n",
       "      <th>4</th>\n",
       "      <td>FDY38</td>\n",
       "      <td>NaN</td>\n",
       "      <td>Regular</td>\n",
       "      <td>0.118599</td>\n",
       "      <td>Dairy</td>\n",
       "      <td>234.2300</td>\n",
       "      <td>OUT027</td>\n",
       "      <td>1985</td>\n",
       "      <td>Medium</td>\n",
       "      <td>Tier 3</td>\n",
       "      <td>Supermarket Type3</td>\n",
       "    </tr>\n",
       "  </tbody>\n",
       "</table>\n",
       "</div>"
      ],
      "text/plain": [
       "  Item_Identifier  Item_Weight Item_Fat_Content  Item_Visibility    Item_Type  \\\n",
       "0           FDW58       20.750          Low Fat         0.007565  Snack Foods   \n",
       "1           FDW14        8.300              reg         0.038428        Dairy   \n",
       "2           NCN55       14.600          Low Fat         0.099575       Others   \n",
       "3           FDQ58        7.315          Low Fat         0.015388  Snack Foods   \n",
       "4           FDY38          NaN          Regular         0.118599        Dairy   \n",
       "\n",
       "   Item_MRP Outlet_Identifier  Outlet_Establishment_Year Outlet_Size  \\\n",
       "0  107.8622            OUT049                       1999      Medium   \n",
       "1   87.3198            OUT017                       2007         NaN   \n",
       "2  241.7538            OUT010                       1998         NaN   \n",
       "3  155.0340            OUT017                       2007         NaN   \n",
       "4  234.2300            OUT027                       1985      Medium   \n",
       "\n",
       "  Outlet_Location_Type        Outlet_Type  \n",
       "0               Tier 1  Supermarket Type1  \n",
       "1               Tier 2  Supermarket Type1  \n",
       "2               Tier 3      Grocery Store  \n",
       "3               Tier 2  Supermarket Type1  \n",
       "4               Tier 3  Supermarket Type3  "
      ]
     },
     "execution_count": 4,
     "metadata": {},
     "output_type": "execute_result"
    }
   ],
   "source": [
    "test.head()"
   ]
  },
  {
   "cell_type": "markdown",
   "id": "6ec26029",
   "metadata": {},
   "source": [
    "## cleaning"
   ]
  },
  {
   "cell_type": "code",
   "execution_count": 5,
   "id": "6b2c4ddc",
   "metadata": {},
   "outputs": [],
   "source": [
    "# test_item_id = test['Item_Identifier'].copy()\n",
    "# test_outlet_id = test['Outlet_Identifier'].copy()\n",
    "\n",
    "#target\n",
    "sales = train['Item_Outlet_Sales'].copy()\n",
    "train.drop(['Item_Outlet_Sales'], axis=1, inplace=True)"
   ]
  },
  {
   "cell_type": "code",
   "execution_count": 6,
   "id": "3454bd07",
   "metadata": {},
   "outputs": [],
   "source": [
    "# combining train and test to avoid performing the same steps in two dfs\n",
    "train_test = pd.concat([train, test], ignore_index=True)"
   ]
  },
  {
   "cell_type": "code",
   "execution_count": 7,
   "id": "3f4e0705",
   "metadata": {},
   "outputs": [],
   "source": [
    "# missing data\n",
    "train_test['Item_Weight'].fillna(train_test['Item_Weight'].mean(), inplace=True)\n",
    "train_test['Outlet_Size'].fillna(\"missing\", inplace=True)"
   ]
  },
  {
   "cell_type": "code",
   "execution_count": 8,
   "id": "1725a618",
   "metadata": {},
   "outputs": [
    {
     "data": {
      "text/plain": [
       "(8523, 11)"
      ]
     },
     "execution_count": 8,
     "metadata": {},
     "output_type": "execute_result"
    }
   ],
   "source": [
    "train.shape"
   ]
  },
  {
   "cell_type": "code",
   "execution_count": 9,
   "id": "d089034b",
   "metadata": {},
   "outputs": [
    {
     "data": {
      "text/plain": [
       "(5681, 11)"
      ]
     },
     "execution_count": 9,
     "metadata": {},
     "output_type": "execute_result"
    }
   ],
   "source": [
    "test.shape"
   ]
  },
  {
   "cell_type": "code",
   "execution_count": 10,
   "id": "258c8f1f",
   "metadata": {},
   "outputs": [
    {
     "data": {
      "text/plain": [
       "(14204, 11)"
      ]
     },
     "execution_count": 10,
     "metadata": {},
     "output_type": "execute_result"
    }
   ],
   "source": [
    "train_test.shape"
   ]
  },
  {
   "cell_type": "code",
   "execution_count": 11,
   "id": "fdeb39b7",
   "metadata": {},
   "outputs": [
    {
     "data": {
      "text/plain": [
       "array(['Low Fat', 'Regular', 'low fat', 'LF', 'reg'], dtype=object)"
      ]
     },
     "execution_count": 11,
     "metadata": {},
     "output_type": "execute_result"
    }
   ],
   "source": [
    "train_test['Item_Fat_Content'].unique()"
   ]
  },
  {
   "cell_type": "code",
   "execution_count": 12,
   "id": "6b5de30a",
   "metadata": {},
   "outputs": [],
   "source": [
    "fat_content_dict = {'Low Fat': 0, 'Regular':1, 'low fat': 0, 'LF': 0, 'reg': 1}\n",
    "train_test['Item_Fat_Content'] = train_test.Item_Fat_Content.replace(fat_content_dict, regex=True)"
   ]
  },
  {
   "cell_type": "code",
   "execution_count": 13,
   "id": "44f5813c",
   "metadata": {},
   "outputs": [],
   "source": [
    "train_test['id'] = train_test['Item_Identifier'] + train_test['Outlet_Identifier']\n",
    "train_test.drop(['Item_Identifier'], axis=1, inplace=True)"
   ]
  },
  {
   "cell_type": "markdown",
   "id": "b7877d9b",
   "metadata": {},
   "source": [
    "we will have to create an EntitySet. An EntitySet is a structure that contains multiple dataframes and relationships between them. So, let’s create an EntitySet and add the dataframe combination to it."
   ]
  },
  {
   "cell_type": "code",
   "execution_count": 14,
   "id": "515a7f4c",
   "metadata": {},
   "outputs": [],
   "source": [
    "entity_set = ft.EntitySet(id='sales')"
   ]
  },
  {
   "cell_type": "code",
   "execution_count": 15,
   "id": "82fd1710",
   "metadata": {},
   "outputs": [
    {
     "data": {
      "text/plain": [
       "Entityset: sales\n",
       "  Entities:\n",
       "    bigmart [Rows: 14204, Columns: 11]\n",
       "  Relationships:\n",
       "    No relationships"
      ]
     },
     "execution_count": 15,
     "metadata": {},
     "output_type": "execute_result"
    }
   ],
   "source": [
    "entity_set.entity_from_dataframe(entity_id='bigmart', dataframe=train_test, index='id')"
   ]
  },
  {
   "cell_type": "code",
   "execution_count": 38,
   "id": "20b1e53a",
   "metadata": {},
   "outputs": [
    {
     "data": {
      "text/plain": [
       "14194"
      ]
     },
     "execution_count": 38,
     "metadata": {},
     "output_type": "execute_result"
    }
   ],
   "source": [
    "train_test[\n",
    "    ['Outlet_Identifier', 'Outlet_Establishment_Year', 'Outlet_Size', 'Outlet_Location_Type', 'Outlet_Type']]\\\n",
    "    .duplicated().sum()"
   ]
  },
  {
   "cell_type": "code",
   "execution_count": 16,
   "id": "b2196074",
   "metadata": {},
   "outputs": [
    {
     "data": {
      "text/plain": [
       "Entityset: sales\n",
       "  Entities:\n",
       "    bigmart [Rows: 14204, Columns: 7]\n",
       "    outlet [Rows: 10, Columns: 5]\n",
       "  Relationships:\n",
       "    bigmart.Outlet_Identifier -> outlet.Outlet_Identifier"
      ]
     },
     "execution_count": 16,
     "metadata": {},
     "output_type": "execute_result"
    }
   ],
   "source": [
    "entity_set.normalize_entity(\n",
    "    base_entity_id='bigmart', new_entity_id='outlet', index='Outlet_Identifier',\n",
    "    additional_variables=['Outlet_Establishment_Year', 'Outlet_Size', 'Outlet_Location_Type', 'Outlet_Type'])"
   ]
  },
  {
   "cell_type": "code",
   "execution_count": 17,
   "id": "4d6a2e68",
   "metadata": {},
   "outputs": [
    {
     "name": "stdout",
     "output_type": "stream",
     "text": [
      "Built 37 features\n",
      "Elapsed: 00:00 | Progress: 100%|███████████████████████████████████████████████████████████████████████████████████████████████████████████████████████\n"
     ]
    }
   ],
   "source": [
    "feature_matrix, feature_names = ft.dfs(entityset=entity_set, target_entity='bigmart',\n",
    "                                       max_depth=2, verbose=1, n_jobs=1)"
   ]
  },
  {
   "cell_type": "code",
   "execution_count": 18,
   "id": "26e8a099",
   "metadata": {},
   "outputs": [
    {
     "data": {
      "text/plain": [
       "Index(['Item_Weight', 'Item_Fat_Content', 'Item_Visibility', 'Item_Type',\n",
       "       'Item_MRP', 'Outlet_Identifier', 'outlet.Outlet_Establishment_Year',\n",
       "       'outlet.Outlet_Size', 'outlet.Outlet_Location_Type',\n",
       "       'outlet.Outlet_Type', 'outlet.COUNT(bigmart)',\n",
       "       'outlet.MAX(bigmart.Item_Fat_Content)', 'outlet.MAX(bigmart.Item_MRP)',\n",
       "       'outlet.MAX(bigmart.Item_Visibility)',\n",
       "       'outlet.MAX(bigmart.Item_Weight)',\n",
       "       'outlet.MEAN(bigmart.Item_Fat_Content)',\n",
       "       'outlet.MEAN(bigmart.Item_MRP)', 'outlet.MEAN(bigmart.Item_Visibility)',\n",
       "       'outlet.MEAN(bigmart.Item_Weight)',\n",
       "       'outlet.MIN(bigmart.Item_Fat_Content)', 'outlet.MIN(bigmart.Item_MRP)',\n",
       "       'outlet.MIN(bigmart.Item_Visibility)',\n",
       "       'outlet.MIN(bigmart.Item_Weight)', 'outlet.MODE(bigmart.Item_Type)',\n",
       "       'outlet.NUM_UNIQUE(bigmart.Item_Type)',\n",
       "       'outlet.SKEW(bigmart.Item_Fat_Content)',\n",
       "       'outlet.SKEW(bigmart.Item_MRP)', 'outlet.SKEW(bigmart.Item_Visibility)',\n",
       "       'outlet.SKEW(bigmart.Item_Weight)',\n",
       "       'outlet.STD(bigmart.Item_Fat_Content)', 'outlet.STD(bigmart.Item_MRP)',\n",
       "       'outlet.STD(bigmart.Item_Visibility)',\n",
       "       'outlet.STD(bigmart.Item_Weight)',\n",
       "       'outlet.SUM(bigmart.Item_Fat_Content)', 'outlet.SUM(bigmart.Item_MRP)',\n",
       "       'outlet.SUM(bigmart.Item_Visibility)',\n",
       "       'outlet.SUM(bigmart.Item_Weight)'],\n",
       "      dtype='object')"
      ]
     },
     "execution_count": 18,
     "metadata": {},
     "output_type": "execute_result"
    }
   ],
   "source": [
    "feature_matrix.columns"
   ]
  },
  {
   "cell_type": "code",
   "execution_count": 42,
   "id": "9ec8040a",
   "metadata": {},
   "outputs": [
    {
     "data": {
      "text/plain": [
       "array([0.18785023, 0.18832266, 0.31393469, 0.18591302, 0.18665037,\n",
       "       0.187939  , 0.18861954, 0.18755863, 0.18752316, 0.32839095])"
      ]
     },
     "execution_count": 42,
     "metadata": {},
     "output_type": "execute_result"
    }
   ],
   "source": [
    "feature_matrix['outlet.MAX(bigmart.Item_Visibility)'].unique()"
   ]
  },
  {
   "cell_type": "code",
   "execution_count": 20,
   "id": "82f36889",
   "metadata": {},
   "outputs": [],
   "source": [
    "feature_matrix = feature_matrix.reindex(index=train_test['id'])\n",
    "feature_matrix = feature_matrix.reset_index()"
   ]
  },
  {
   "cell_type": "code",
   "execution_count": 21,
   "id": "9a0bc551",
   "metadata": {},
   "outputs": [
    {
     "data": {
      "text/html": [
       "<div>\n",
       "<style scoped>\n",
       "    .dataframe tbody tr th:only-of-type {\n",
       "        vertical-align: middle;\n",
       "    }\n",
       "\n",
       "    .dataframe tbody tr th {\n",
       "        vertical-align: top;\n",
       "    }\n",
       "\n",
       "    .dataframe thead th {\n",
       "        text-align: right;\n",
       "    }\n",
       "</style>\n",
       "<table border=\"1\" class=\"dataframe\">\n",
       "  <thead>\n",
       "    <tr style=\"text-align: right;\">\n",
       "      <th></th>\n",
       "      <th>id</th>\n",
       "      <th>Item_Weight</th>\n",
       "      <th>Item_Fat_Content</th>\n",
       "      <th>Item_Visibility</th>\n",
       "      <th>Item_Type</th>\n",
       "      <th>Item_MRP</th>\n",
       "      <th>Outlet_Identifier</th>\n",
       "      <th>outlet.Outlet_Establishment_Year</th>\n",
       "      <th>outlet.Outlet_Size</th>\n",
       "      <th>outlet.Outlet_Location_Type</th>\n",
       "      <th>...</th>\n",
       "      <th>outlet.SKEW(bigmart.Item_Visibility)</th>\n",
       "      <th>outlet.SKEW(bigmart.Item_Weight)</th>\n",
       "      <th>outlet.STD(bigmart.Item_Fat_Content)</th>\n",
       "      <th>outlet.STD(bigmart.Item_MRP)</th>\n",
       "      <th>outlet.STD(bigmart.Item_Visibility)</th>\n",
       "      <th>outlet.STD(bigmart.Item_Weight)</th>\n",
       "      <th>outlet.SUM(bigmart.Item_Fat_Content)</th>\n",
       "      <th>outlet.SUM(bigmart.Item_MRP)</th>\n",
       "      <th>outlet.SUM(bigmart.Item_Visibility)</th>\n",
       "      <th>outlet.SUM(bigmart.Item_Weight)</th>\n",
       "    </tr>\n",
       "  </thead>\n",
       "  <tbody>\n",
       "    <tr>\n",
       "      <th>0</th>\n",
       "      <td>FDA15OUT049</td>\n",
       "      <td>9.30</td>\n",
       "      <td>0</td>\n",
       "      <td>0.016047</td>\n",
       "      <td>Dairy</td>\n",
       "      <td>249.8092</td>\n",
       "      <td>OUT049</td>\n",
       "      <td>1999</td>\n",
       "      <td>Medium</td>\n",
       "      <td>Tier 1</td>\n",
       "      <td>...</td>\n",
       "      <td>0.790782</td>\n",
       "      <td>0.099024</td>\n",
       "      <td>0.478027</td>\n",
       "      <td>62.144594</td>\n",
       "      <td>0.043924</td>\n",
       "      <td>4.650796</td>\n",
       "      <td>547</td>\n",
       "      <td>218802.9588</td>\n",
       "      <td>91.450099</td>\n",
       "      <td>19844.655</td>\n",
       "    </tr>\n",
       "    <tr>\n",
       "      <th>1</th>\n",
       "      <td>DRC01OUT018</td>\n",
       "      <td>5.92</td>\n",
       "      <td>1</td>\n",
       "      <td>0.019278</td>\n",
       "      <td>Soft Drinks</td>\n",
       "      <td>48.2692</td>\n",
       "      <td>OUT018</td>\n",
       "      <td>2009</td>\n",
       "      <td>Medium</td>\n",
       "      <td>Tier 3</td>\n",
       "      <td>...</td>\n",
       "      <td>0.783017</td>\n",
       "      <td>0.102602</td>\n",
       "      <td>0.478308</td>\n",
       "      <td>62.022851</td>\n",
       "      <td>0.044489</td>\n",
       "      <td>4.650874</td>\n",
       "      <td>547</td>\n",
       "      <td>217987.3906</td>\n",
       "      <td>92.723425</td>\n",
       "      <td>19794.425</td>\n",
       "    </tr>\n",
       "    <tr>\n",
       "      <th>2</th>\n",
       "      <td>FDN15OUT049</td>\n",
       "      <td>17.50</td>\n",
       "      <td>0</td>\n",
       "      <td>0.016760</td>\n",
       "      <td>Meat</td>\n",
       "      <td>141.6180</td>\n",
       "      <td>OUT049</td>\n",
       "      <td>1999</td>\n",
       "      <td>Medium</td>\n",
       "      <td>Tier 1</td>\n",
       "      <td>...</td>\n",
       "      <td>0.790782</td>\n",
       "      <td>0.099024</td>\n",
       "      <td>0.478027</td>\n",
       "      <td>62.144594</td>\n",
       "      <td>0.043924</td>\n",
       "      <td>4.650796</td>\n",
       "      <td>547</td>\n",
       "      <td>218802.9588</td>\n",
       "      <td>91.450099</td>\n",
       "      <td>19844.655</td>\n",
       "    </tr>\n",
       "    <tr>\n",
       "      <th>3</th>\n",
       "      <td>FDX07OUT010</td>\n",
       "      <td>19.20</td>\n",
       "      <td>1</td>\n",
       "      <td>0.000000</td>\n",
       "      <td>Fruits and Vegetables</td>\n",
       "      <td>182.0950</td>\n",
       "      <td>OUT010</td>\n",
       "      <td>1998</td>\n",
       "      <td>missing</td>\n",
       "      <td>Tier 3</td>\n",
       "      <td>...</td>\n",
       "      <td>0.776902</td>\n",
       "      <td>0.112759</td>\n",
       "      <td>0.479301</td>\n",
       "      <td>62.010835</td>\n",
       "      <td>0.073604</td>\n",
       "      <td>4.675070</td>\n",
       "      <td>330</td>\n",
       "      <td>130572.7618</td>\n",
       "      <td>94.293418</td>\n",
       "      <td>11768.655</td>\n",
       "    </tr>\n",
       "    <tr>\n",
       "      <th>4</th>\n",
       "      <td>NCD19OUT013</td>\n",
       "      <td>8.93</td>\n",
       "      <td>0</td>\n",
       "      <td>0.000000</td>\n",
       "      <td>Household</td>\n",
       "      <td>53.8614</td>\n",
       "      <td>OUT013</td>\n",
       "      <td>1987</td>\n",
       "      <td>High</td>\n",
       "      <td>Tier 3</td>\n",
       "      <td>...</td>\n",
       "      <td>0.759033</td>\n",
       "      <td>0.104392</td>\n",
       "      <td>0.478213</td>\n",
       "      <td>62.140848</td>\n",
       "      <td>0.044005</td>\n",
       "      <td>4.650214</td>\n",
       "      <td>549</td>\n",
       "      <td>219172.4492</td>\n",
       "      <td>93.555174</td>\n",
       "      <td>19859.980</td>\n",
       "    </tr>\n",
       "    <tr>\n",
       "      <th>...</th>\n",
       "      <td>...</td>\n",
       "      <td>...</td>\n",
       "      <td>...</td>\n",
       "      <td>...</td>\n",
       "      <td>...</td>\n",
       "      <td>...</td>\n",
       "      <td>...</td>\n",
       "      <td>...</td>\n",
       "      <td>...</td>\n",
       "      <td>...</td>\n",
       "      <td>...</td>\n",
       "      <td>...</td>\n",
       "      <td>...</td>\n",
       "      <td>...</td>\n",
       "      <td>...</td>\n",
       "      <td>...</td>\n",
       "      <td>...</td>\n",
       "      <td>...</td>\n",
       "      <td>...</td>\n",
       "      <td>...</td>\n",
       "      <td>...</td>\n",
       "    </tr>\n",
       "    <tr>\n",
       "      <th>14199</th>\n",
       "      <td>FDB58OUT046</td>\n",
       "      <td>10.50</td>\n",
       "      <td>1</td>\n",
       "      <td>0.013496</td>\n",
       "      <td>Snack Foods</td>\n",
       "      <td>141.3154</td>\n",
       "      <td>OUT046</td>\n",
       "      <td>1997</td>\n",
       "      <td>Small</td>\n",
       "      <td>Tier 1</td>\n",
       "      <td>...</td>\n",
       "      <td>0.779426</td>\n",
       "      <td>0.094235</td>\n",
       "      <td>0.477828</td>\n",
       "      <td>62.106844</td>\n",
       "      <td>0.044303</td>\n",
       "      <td>4.653788</td>\n",
       "      <td>546</td>\n",
       "      <td>218274.0716</td>\n",
       "      <td>93.285857</td>\n",
       "      <td>19860.635</td>\n",
       "    </tr>\n",
       "    <tr>\n",
       "      <th>14200</th>\n",
       "      <td>FDD47OUT018</td>\n",
       "      <td>7.60</td>\n",
       "      <td>1</td>\n",
       "      <td>0.142991</td>\n",
       "      <td>Starchy Foods</td>\n",
       "      <td>169.1448</td>\n",
       "      <td>OUT018</td>\n",
       "      <td>2009</td>\n",
       "      <td>Medium</td>\n",
       "      <td>Tier 3</td>\n",
       "      <td>...</td>\n",
       "      <td>0.783017</td>\n",
       "      <td>0.102602</td>\n",
       "      <td>0.478308</td>\n",
       "      <td>62.022851</td>\n",
       "      <td>0.044489</td>\n",
       "      <td>4.650874</td>\n",
       "      <td>547</td>\n",
       "      <td>217987.3906</td>\n",
       "      <td>92.723425</td>\n",
       "      <td>19794.425</td>\n",
       "    </tr>\n",
       "    <tr>\n",
       "      <th>14201</th>\n",
       "      <td>NCO17OUT045</td>\n",
       "      <td>10.00</td>\n",
       "      <td>0</td>\n",
       "      <td>0.073529</td>\n",
       "      <td>Health and Hygiene</td>\n",
       "      <td>118.7440</td>\n",
       "      <td>OUT045</td>\n",
       "      <td>2002</td>\n",
       "      <td>missing</td>\n",
       "      <td>Tier 2</td>\n",
       "      <td>...</td>\n",
       "      <td>0.758935</td>\n",
       "      <td>0.098933</td>\n",
       "      <td>0.478168</td>\n",
       "      <td>62.262676</td>\n",
       "      <td>0.044373</td>\n",
       "      <td>4.649769</td>\n",
       "      <td>547</td>\n",
       "      <td>218047.1632</td>\n",
       "      <td>94.284513</td>\n",
       "      <td>19809.905</td>\n",
       "    </tr>\n",
       "    <tr>\n",
       "      <th>14202</th>\n",
       "      <td>FDJ26OUT017</td>\n",
       "      <td>15.30</td>\n",
       "      <td>1</td>\n",
       "      <td>0.000000</td>\n",
       "      <td>Canned</td>\n",
       "      <td>214.6218</td>\n",
       "      <td>OUT017</td>\n",
       "      <td>2007</td>\n",
       "      <td>missing</td>\n",
       "      <td>Tier 2</td>\n",
       "      <td>...</td>\n",
       "      <td>0.774783</td>\n",
       "      <td>0.106563</td>\n",
       "      <td>0.477922</td>\n",
       "      <td>62.295513</td>\n",
       "      <td>0.044152</td>\n",
       "      <td>4.655234</td>\n",
       "      <td>544</td>\n",
       "      <td>217561.3500</td>\n",
       "      <td>94.342210</td>\n",
       "      <td>19722.750</td>\n",
       "    </tr>\n",
       "    <tr>\n",
       "      <th>14203</th>\n",
       "      <td>FDU37OUT045</td>\n",
       "      <td>9.50</td>\n",
       "      <td>1</td>\n",
       "      <td>0.104720</td>\n",
       "      <td>Canned</td>\n",
       "      <td>79.7960</td>\n",
       "      <td>OUT045</td>\n",
       "      <td>2002</td>\n",
       "      <td>missing</td>\n",
       "      <td>Tier 2</td>\n",
       "      <td>...</td>\n",
       "      <td>0.758935</td>\n",
       "      <td>0.098933</td>\n",
       "      <td>0.478168</td>\n",
       "      <td>62.262676</td>\n",
       "      <td>0.044373</td>\n",
       "      <td>4.649769</td>\n",
       "      <td>547</td>\n",
       "      <td>218047.1632</td>\n",
       "      <td>94.284513</td>\n",
       "      <td>19809.905</td>\n",
       "    </tr>\n",
       "  </tbody>\n",
       "</table>\n",
       "<p>14204 rows × 38 columns</p>\n",
       "</div>"
      ],
      "text/plain": [
       "                id  Item_Weight  Item_Fat_Content  Item_Visibility  \\\n",
       "0      FDA15OUT049         9.30                 0         0.016047   \n",
       "1      DRC01OUT018         5.92                 1         0.019278   \n",
       "2      FDN15OUT049        17.50                 0         0.016760   \n",
       "3      FDX07OUT010        19.20                 1         0.000000   \n",
       "4      NCD19OUT013         8.93                 0         0.000000   \n",
       "...            ...          ...               ...              ...   \n",
       "14199  FDB58OUT046        10.50                 1         0.013496   \n",
       "14200  FDD47OUT018         7.60                 1         0.142991   \n",
       "14201  NCO17OUT045        10.00                 0         0.073529   \n",
       "14202  FDJ26OUT017        15.30                 1         0.000000   \n",
       "14203  FDU37OUT045         9.50                 1         0.104720   \n",
       "\n",
       "                   Item_Type  Item_MRP Outlet_Identifier  \\\n",
       "0                      Dairy  249.8092            OUT049   \n",
       "1                Soft Drinks   48.2692            OUT018   \n",
       "2                       Meat  141.6180            OUT049   \n",
       "3      Fruits and Vegetables  182.0950            OUT010   \n",
       "4                  Household   53.8614            OUT013   \n",
       "...                      ...       ...               ...   \n",
       "14199            Snack Foods  141.3154            OUT046   \n",
       "14200          Starchy Foods  169.1448            OUT018   \n",
       "14201     Health and Hygiene  118.7440            OUT045   \n",
       "14202                 Canned  214.6218            OUT017   \n",
       "14203                 Canned   79.7960            OUT045   \n",
       "\n",
       "       outlet.Outlet_Establishment_Year outlet.Outlet_Size  \\\n",
       "0                                  1999             Medium   \n",
       "1                                  2009             Medium   \n",
       "2                                  1999             Medium   \n",
       "3                                  1998            missing   \n",
       "4                                  1987               High   \n",
       "...                                 ...                ...   \n",
       "14199                              1997              Small   \n",
       "14200                              2009             Medium   \n",
       "14201                              2002            missing   \n",
       "14202                              2007            missing   \n",
       "14203                              2002            missing   \n",
       "\n",
       "      outlet.Outlet_Location_Type  ... outlet.SKEW(bigmart.Item_Visibility)  \\\n",
       "0                          Tier 1  ...                             0.790782   \n",
       "1                          Tier 3  ...                             0.783017   \n",
       "2                          Tier 1  ...                             0.790782   \n",
       "3                          Tier 3  ...                             0.776902   \n",
       "4                          Tier 3  ...                             0.759033   \n",
       "...                           ...  ...                                  ...   \n",
       "14199                      Tier 1  ...                             0.779426   \n",
       "14200                      Tier 3  ...                             0.783017   \n",
       "14201                      Tier 2  ...                             0.758935   \n",
       "14202                      Tier 2  ...                             0.774783   \n",
       "14203                      Tier 2  ...                             0.758935   \n",
       "\n",
       "       outlet.SKEW(bigmart.Item_Weight)  outlet.STD(bigmart.Item_Fat_Content)  \\\n",
       "0                              0.099024                              0.478027   \n",
       "1                              0.102602                              0.478308   \n",
       "2                              0.099024                              0.478027   \n",
       "3                              0.112759                              0.479301   \n",
       "4                              0.104392                              0.478213   \n",
       "...                                 ...                                   ...   \n",
       "14199                          0.094235                              0.477828   \n",
       "14200                          0.102602                              0.478308   \n",
       "14201                          0.098933                              0.478168   \n",
       "14202                          0.106563                              0.477922   \n",
       "14203                          0.098933                              0.478168   \n",
       "\n",
       "       outlet.STD(bigmart.Item_MRP)  outlet.STD(bigmart.Item_Visibility)  \\\n",
       "0                         62.144594                             0.043924   \n",
       "1                         62.022851                             0.044489   \n",
       "2                         62.144594                             0.043924   \n",
       "3                         62.010835                             0.073604   \n",
       "4                         62.140848                             0.044005   \n",
       "...                             ...                                  ...   \n",
       "14199                     62.106844                             0.044303   \n",
       "14200                     62.022851                             0.044489   \n",
       "14201                     62.262676                             0.044373   \n",
       "14202                     62.295513                             0.044152   \n",
       "14203                     62.262676                             0.044373   \n",
       "\n",
       "       outlet.STD(bigmart.Item_Weight)  outlet.SUM(bigmart.Item_Fat_Content)  \\\n",
       "0                             4.650796                                   547   \n",
       "1                             4.650874                                   547   \n",
       "2                             4.650796                                   547   \n",
       "3                             4.675070                                   330   \n",
       "4                             4.650214                                   549   \n",
       "...                                ...                                   ...   \n",
       "14199                         4.653788                                   546   \n",
       "14200                         4.650874                                   547   \n",
       "14201                         4.649769                                   547   \n",
       "14202                         4.655234                                   544   \n",
       "14203                         4.649769                                   547   \n",
       "\n",
       "       outlet.SUM(bigmart.Item_MRP)  outlet.SUM(bigmart.Item_Visibility)  \\\n",
       "0                       218802.9588                            91.450099   \n",
       "1                       217987.3906                            92.723425   \n",
       "2                       218802.9588                            91.450099   \n",
       "3                       130572.7618                            94.293418   \n",
       "4                       219172.4492                            93.555174   \n",
       "...                             ...                                  ...   \n",
       "14199                   218274.0716                            93.285857   \n",
       "14200                   217987.3906                            92.723425   \n",
       "14201                   218047.1632                            94.284513   \n",
       "14202                   217561.3500                            94.342210   \n",
       "14203                   218047.1632                            94.284513   \n",
       "\n",
       "       outlet.SUM(bigmart.Item_Weight)  \n",
       "0                            19844.655  \n",
       "1                            19794.425  \n",
       "2                            19844.655  \n",
       "3                            11768.655  \n",
       "4                            19859.980  \n",
       "...                                ...  \n",
       "14199                        19860.635  \n",
       "14200                        19794.425  \n",
       "14201                        19809.905  \n",
       "14202                        19722.750  \n",
       "14203                        19809.905  \n",
       "\n",
       "[14204 rows x 38 columns]"
      ]
     },
     "execution_count": 21,
     "metadata": {},
     "output_type": "execute_result"
    }
   ],
   "source": [
    "feature_matrix"
   ]
  },
  {
   "cell_type": "markdown",
   "id": "3f58d1fb",
   "metadata": {},
   "source": [
    "## Machine Learning"
   ]
  },
  {
   "cell_type": "code",
   "execution_count": 22,
   "id": "6aef9196",
   "metadata": {},
   "outputs": [],
   "source": [
    "from catboost import CatBoostRegressor\n",
    "from sklearn.model_selection import train_test_split"
   ]
  },
  {
   "cell_type": "code",
   "execution_count": 23,
   "id": "104183d1",
   "metadata": {},
   "outputs": [],
   "source": [
    "# converting categorical features to string\n",
    "categorical_features = np.where(feature_matrix.dtypes == 'object')[0]\n",
    "for i in categorical_features:\n",
    "    feature_matrix.iloc[:,i] = feature_matrix.iloc[:, i].astype('str')"
   ]
  },
  {
   "cell_type": "code",
   "execution_count": 24,
   "id": "f7f3dad9",
   "metadata": {},
   "outputs": [],
   "source": [
    "# split the combined df into train and test again\n",
    "feature_matrix.drop(['id'], axis=1, inplace=True)\n",
    "train = feature_matrix[:8523]\n",
    "test = feature_matrix[8523:]"
   ]
  },
  {
   "cell_type": "code",
   "execution_count": 25,
   "id": "45e1584b",
   "metadata": {},
   "outputs": [],
   "source": [
    "train.drop(['Outlet_Identifier'], axis=1, inplace=True)\n",
    "test.drop(['Outlet_Identifier'], axis=1, inplace=True)"
   ]
  },
  {
   "cell_type": "code",
   "execution_count": 30,
   "id": "b76e7bb4",
   "metadata": {},
   "outputs": [
    {
     "data": {
      "text/plain": [
       "array([ 3,  6,  7,  8, 22])"
      ]
     },
     "execution_count": 30,
     "metadata": {},
     "output_type": "execute_result"
    }
   ],
   "source": [
    "categorical_features = np.where(train.dtypes == 'object')[0]\n",
    "categorical_features"
   ]
  },
  {
   "cell_type": "code",
   "execution_count": 31,
   "id": "55fbc1ef",
   "metadata": {},
   "outputs": [],
   "source": [
    "x_train, x_val, y_train, y_val = train_test_split(train, sales, test_size=0.25, random_state=11)"
   ]
  },
  {
   "cell_type": "code",
   "execution_count": 32,
   "id": "fb0660ec",
   "metadata": {},
   "outputs": [],
   "source": [
    "model_cat = CatBoostRegressor(iterations=100, learning_rate=0.3, depth=6, eval_metric='RMSE', random_seed=7)"
   ]
  },
  {
   "cell_type": "code",
   "execution_count": 33,
   "id": "8c344366",
   "metadata": {},
   "outputs": [
    {
     "name": "stderr",
     "output_type": "stream",
     "text": [
      "You should provide test set for use best model. use_best_model parameter has been switched to false value.\n"
     ]
    },
    {
     "name": "stdout",
     "output_type": "stream",
     "text": [
      "0:\tlearn: 1440.1669686\ttotal: 57.3ms\tremaining: 5.67s\n",
      "1:\tlearn: 1291.2555633\ttotal: 67.2ms\tremaining: 3.29s\n",
      "2:\tlearn: 1198.9242824\ttotal: 75.3ms\tremaining: 2.43s\n",
      "3:\tlearn: 1144.4826511\ttotal: 79.1ms\tremaining: 1.9s\n",
      "4:\tlearn: 1110.1295069\ttotal: 82.8ms\tremaining: 1.57s\n",
      "5:\tlearn: 1089.8059753\ttotal: 86.3ms\tremaining: 1.35s\n",
      "6:\tlearn: 1081.0870251\ttotal: 89ms\tremaining: 1.18s\n",
      "7:\tlearn: 1073.8363039\ttotal: 91.2ms\tremaining: 1.05s\n",
      "8:\tlearn: 1068.1980841\ttotal: 93.6ms\tremaining: 946ms\n",
      "9:\tlearn: 1065.3736138\ttotal: 95.5ms\tremaining: 860ms\n",
      "10:\tlearn: 1062.6591514\ttotal: 97.4ms\tremaining: 788ms\n",
      "11:\tlearn: 1058.9950763\ttotal: 99.6ms\tremaining: 730ms\n",
      "12:\tlearn: 1058.2651366\ttotal: 102ms\tremaining: 680ms\n",
      "13:\tlearn: 1057.5983637\ttotal: 103ms\tremaining: 633ms\n",
      "14:\tlearn: 1056.4337486\ttotal: 105ms\tremaining: 593ms\n",
      "15:\tlearn: 1055.8339476\ttotal: 106ms\tremaining: 557ms\n",
      "16:\tlearn: 1053.4063958\ttotal: 108ms\tremaining: 526ms\n",
      "17:\tlearn: 1053.3144343\ttotal: 109ms\tremaining: 497ms\n",
      "18:\tlearn: 1052.0205175\ttotal: 111ms\tremaining: 471ms\n",
      "19:\tlearn: 1050.0396473\ttotal: 112ms\tremaining: 448ms\n",
      "20:\tlearn: 1049.2306183\ttotal: 114ms\tremaining: 427ms\n",
      "21:\tlearn: 1048.6602947\ttotal: 115ms\tremaining: 408ms\n",
      "22:\tlearn: 1046.2425778\ttotal: 117ms\tremaining: 392ms\n",
      "23:\tlearn: 1045.6929110\ttotal: 118ms\tremaining: 375ms\n",
      "24:\tlearn: 1045.1080311\ttotal: 120ms\tremaining: 359ms\n",
      "25:\tlearn: 1044.8780129\ttotal: 121ms\tremaining: 345ms\n",
      "26:\tlearn: 1044.3452571\ttotal: 123ms\tremaining: 331ms\n",
      "27:\tlearn: 1043.7885585\ttotal: 124ms\tremaining: 319ms\n",
      "28:\tlearn: 1043.6152617\ttotal: 125ms\tremaining: 307ms\n",
      "29:\tlearn: 1043.5265602\ttotal: 127ms\tremaining: 296ms\n",
      "30:\tlearn: 1042.9935886\ttotal: 128ms\tremaining: 285ms\n",
      "31:\tlearn: 1041.5475597\ttotal: 130ms\tremaining: 275ms\n",
      "32:\tlearn: 1040.2697734\ttotal: 131ms\tremaining: 266ms\n",
      "33:\tlearn: 1039.4574156\ttotal: 133ms\tremaining: 258ms\n",
      "34:\tlearn: 1038.5793357\ttotal: 134ms\tremaining: 249ms\n",
      "35:\tlearn: 1035.6428378\ttotal: 136ms\tremaining: 241ms\n",
      "36:\tlearn: 1033.2815391\ttotal: 137ms\tremaining: 234ms\n",
      "37:\tlearn: 1031.9718879\ttotal: 139ms\tremaining: 226ms\n",
      "38:\tlearn: 1030.5659372\ttotal: 140ms\tremaining: 219ms\n",
      "39:\tlearn: 1029.9890025\ttotal: 141ms\tremaining: 212ms\n",
      "40:\tlearn: 1029.9587807\ttotal: 143ms\tremaining: 206ms\n",
      "41:\tlearn: 1027.4757312\ttotal: 144ms\tremaining: 199ms\n",
      "42:\tlearn: 1026.5331483\ttotal: 146ms\tremaining: 193ms\n",
      "43:\tlearn: 1024.3255312\ttotal: 148ms\tremaining: 188ms\n",
      "44:\tlearn: 1023.9649596\ttotal: 149ms\tremaining: 182ms\n",
      "45:\tlearn: 1022.1808130\ttotal: 151ms\tremaining: 177ms\n",
      "46:\tlearn: 1020.2309022\ttotal: 152ms\tremaining: 171ms\n",
      "47:\tlearn: 1017.6735587\ttotal: 154ms\tremaining: 166ms\n",
      "48:\tlearn: 1016.6021215\ttotal: 155ms\tremaining: 161ms\n",
      "49:\tlearn: 1013.8274273\ttotal: 157ms\tremaining: 157ms\n",
      "50:\tlearn: 1012.4544029\ttotal: 158ms\tremaining: 152ms\n",
      "51:\tlearn: 1011.1767232\ttotal: 159ms\tremaining: 147ms\n",
      "52:\tlearn: 1010.9550366\ttotal: 161ms\tremaining: 143ms\n",
      "53:\tlearn: 1008.8174695\ttotal: 163ms\tremaining: 139ms\n",
      "54:\tlearn: 1005.7604608\ttotal: 164ms\tremaining: 135ms\n",
      "55:\tlearn: 1003.8707926\ttotal: 166ms\tremaining: 130ms\n",
      "56:\tlearn: 1002.7170131\ttotal: 167ms\tremaining: 126ms\n",
      "57:\tlearn: 1002.3750924\ttotal: 169ms\tremaining: 122ms\n",
      "58:\tlearn: 1002.2049834\ttotal: 170ms\tremaining: 118ms\n",
      "59:\tlearn: 1001.6299103\ttotal: 172ms\tremaining: 114ms\n",
      "60:\tlearn: 997.8201930\ttotal: 173ms\tremaining: 111ms\n",
      "61:\tlearn: 996.5558697\ttotal: 175ms\tremaining: 107ms\n",
      "62:\tlearn: 995.3255309\ttotal: 176ms\tremaining: 103ms\n",
      "63:\tlearn: 994.8944475\ttotal: 178ms\tremaining: 99.9ms\n",
      "64:\tlearn: 993.5064299\ttotal: 179ms\tremaining: 96.3ms\n",
      "65:\tlearn: 991.8744620\ttotal: 181ms\tremaining: 93ms\n",
      "66:\tlearn: 989.0009600\ttotal: 182ms\tremaining: 89.7ms\n",
      "67:\tlearn: 987.2099795\ttotal: 184ms\tremaining: 86.4ms\n",
      "68:\tlearn: 985.5378712\ttotal: 185ms\tremaining: 83.1ms\n",
      "69:\tlearn: 984.1162102\ttotal: 186ms\tremaining: 79.9ms\n",
      "70:\tlearn: 981.6816086\ttotal: 188ms\tremaining: 76.8ms\n",
      "71:\tlearn: 980.3936915\ttotal: 189ms\tremaining: 73.6ms\n",
      "72:\tlearn: 979.1409708\ttotal: 191ms\tremaining: 70.6ms\n",
      "73:\tlearn: 979.0944639\ttotal: 192ms\tremaining: 67.5ms\n",
      "74:\tlearn: 977.5094164\ttotal: 194ms\tremaining: 64.7ms\n",
      "75:\tlearn: 977.2109935\ttotal: 196ms\tremaining: 61.9ms\n",
      "76:\tlearn: 977.1436824\ttotal: 198ms\tremaining: 59.1ms\n",
      "77:\tlearn: 976.3834722\ttotal: 200ms\tremaining: 56.4ms\n",
      "78:\tlearn: 974.9740693\ttotal: 202ms\tremaining: 53.6ms\n",
      "79:\tlearn: 974.8831572\ttotal: 203ms\tremaining: 50.8ms\n",
      "80:\tlearn: 974.8510837\ttotal: 205ms\tremaining: 48.1ms\n",
      "81:\tlearn: 974.5721307\ttotal: 207ms\tremaining: 45.4ms\n",
      "82:\tlearn: 972.3341745\ttotal: 209ms\tremaining: 42.7ms\n",
      "83:\tlearn: 971.5718472\ttotal: 210ms\tremaining: 40ms\n",
      "84:\tlearn: 971.1180160\ttotal: 212ms\tremaining: 37.4ms\n",
      "85:\tlearn: 969.5264836\ttotal: 213ms\tremaining: 34.7ms\n",
      "86:\tlearn: 969.4409642\ttotal: 215ms\tremaining: 32.1ms\n",
      "87:\tlearn: 967.7464711\ttotal: 216ms\tremaining: 29.5ms\n",
      "88:\tlearn: 966.7865015\ttotal: 218ms\tremaining: 26.9ms\n",
      "89:\tlearn: 965.1641248\ttotal: 219ms\tremaining: 24.3ms\n",
      "90:\tlearn: 963.0338047\ttotal: 221ms\tremaining: 21.8ms\n",
      "91:\tlearn: 962.3260553\ttotal: 222ms\tremaining: 19.3ms\n",
      "92:\tlearn: 960.8812515\ttotal: 223ms\tremaining: 16.8ms\n",
      "93:\tlearn: 960.3564970\ttotal: 225ms\tremaining: 14.4ms\n",
      "94:\tlearn: 960.1808834\ttotal: 226ms\tremaining: 11.9ms\n",
      "95:\tlearn: 958.9538220\ttotal: 228ms\tremaining: 9.49ms\n",
      "96:\tlearn: 956.8394637\ttotal: 229ms\tremaining: 7.1ms\n",
      "97:\tlearn: 956.7035512\ttotal: 231ms\tremaining: 4.71ms\n",
      "98:\tlearn: 955.3029712\ttotal: 232ms\tremaining: 2.35ms\n",
      "99:\tlearn: 952.5396345\ttotal: 234ms\tremaining: 0us\n"
     ]
    },
    {
     "data": {
      "text/plain": [
       "<catboost.core.CatBoostRegressor at 0x7f5637c09b70>"
      ]
     },
     "execution_count": 33,
     "metadata": {},
     "output_type": "execute_result"
    }
   ],
   "source": [
    "model_cat.fit(x_train, y_train, cat_features=categorical_features, use_best_model=True)"
   ]
  },
  {
   "cell_type": "code",
   "execution_count": 34,
   "id": "77666b4e",
   "metadata": {},
   "outputs": [
    {
     "data": {
      "text/plain": [
       "0.5792825973878382"
      ]
     },
     "execution_count": 34,
     "metadata": {},
     "output_type": "execute_result"
    }
   ],
   "source": [
    "model_cat.score(x_val, y_val)"
   ]
  },
  {
   "cell_type": "code",
   "execution_count": null,
   "id": "713790e7",
   "metadata": {},
   "outputs": [],
   "source": []
  }
 ],
 "metadata": {
  "kernelspec": {
   "display_name": "feature-engineering",
   "language": "python",
   "name": "feature-engineering"
  },
  "language_info": {
   "codemirror_mode": {
    "name": "ipython",
    "version": 3
   },
   "file_extension": ".py",
   "mimetype": "text/x-python",
   "name": "python",
   "nbconvert_exporter": "python",
   "pygments_lexer": "ipython3",
   "version": "3.10.5"
  }
 },
 "nbformat": 4,
 "nbformat_minor": 5
}
