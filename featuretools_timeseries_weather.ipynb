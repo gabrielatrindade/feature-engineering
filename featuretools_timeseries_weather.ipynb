{
 "cells": [
  {
   "cell_type": "markdown",
   "id": "d7064f93",
   "metadata": {},
   "source": [
    "https://featuretools.alteryx.com/en/stable/guides/time_series.html"
   ]
  },
  {
   "cell_type": "code",
   "execution_count": 65,
   "id": "68937e62",
   "metadata": {},
   "outputs": [],
   "source": [
    "import featuretools as ft\n",
    "import pandas as pd"
   ]
  },
  {
   "cell_type": "code",
   "execution_count": 69,
   "id": "84240b46",
   "metadata": {},
   "outputs": [],
   "source": [
    "def load_weather(nrows=None, return_single_table=False):\n",
    "    \"\"\"\n",
    "    Load the Australian daily-min-temperatures weather dataset.\n",
    "\n",
    "    Args:\n",
    "\n",
    "        nrows (int): Passed to nrows in ``pd.read_csv``.\n",
    "        return_single_table (bool): Exit the function early and return a dataframe.\n",
    "\n",
    "    \"\"\"\n",
    "    filename = \"daily-min-temperatures.csv\"\n",
    "    print(\"Downloading data ...\")\n",
    "    url = \"https://api.featurelabs.com/datasets/{}?library=featuretools&version={}\".format(\n",
    "        filename, ft.__version__\n",
    "    )\n",
    "    data = pd.read_csv(url, index_col=None, nrows=nrows)\n",
    "    if return_single_table:\n",
    "        print('Done')\n",
    "        return data\n",
    "    es = make_es(data)\n",
    "    print('Done')\n",
    "    return es\n",
    "\n",
    "def make_es(data):\n",
    "    es = ft.EntitySet(\"Weather Data\")\n",
    "\n",
    "    es.entity_from_dataframe(\n",
    "        dataframe=data,\n",
    "        entity_id=\"temperatures\",\n",
    "        index=\"id\",\n",
    "        make_index=True,\n",
    "        time_index=\"Date\",\n",
    "    )\n",
    "    return es"
   ]
  },
  {
   "cell_type": "code",
   "execution_count": 70,
   "id": "a348c3df",
   "metadata": {},
   "outputs": [
    {
     "name": "stdout",
     "output_type": "stream",
     "text": [
      "Downloading data ...\n",
      "Done\n"
     ]
    }
   ],
   "source": [
    "es = load_weather()"
   ]
  },
  {
   "cell_type": "code",
   "execution_count": 71,
   "id": "8a4685f6",
   "metadata": {},
   "outputs": [
    {
     "name": "stdout",
     "output_type": "stream",
     "text": [
      "Downloading data ...\n",
      "Done\n"
     ]
    }
   ],
   "source": [
    "df = load_weather(return_single_table=True)"
   ]
  },
  {
   "cell_type": "code",
   "execution_count": 58,
   "id": "4c4d7e26",
   "metadata": {},
   "outputs": [
    {
     "data": {
      "text/plain": [
       "Entity: temperatures\n",
       "  Variables:\n",
       "    id (dtype: index)\n",
       "    Date (dtype: datetime_time_index)\n",
       "    Temp (dtype: numeric)\n",
       "  Shape:\n",
       "    (Rows: 3650, Columns: 3)"
      ]
     },
     "execution_count": 58,
     "metadata": {},
     "output_type": "execute_result"
    }
   ],
   "source": [
    "es['temperatures']"
   ]
  },
  {
   "cell_type": "code",
   "execution_count": 66,
   "id": "dbdee7a2",
   "metadata": {},
   "outputs": [
    {
     "data": {
      "text/plain": [
       "featuretools.entityset.entity.Entity"
      ]
     },
     "execution_count": 66,
     "metadata": {},
     "output_type": "execute_result"
    }
   ],
   "source": [
    "type(es['temperatures'])"
   ]
  },
  {
   "cell_type": "code",
   "execution_count": 74,
   "id": "2451b690",
   "metadata": {},
   "outputs": [
    {
     "data": {
      "text/plain": [
       "<AxesSubplot:ylabel='Temp (C)'>"
      ]
     },
     "execution_count": 74,
     "metadata": {},
     "output_type": "execute_result"
    },
    {
     "data": {
      "image/png": "[encoded data removed]",
      "text/plain": [
       "<Figure size 432x288 with 1 Axes>"
      ]
     },
     "metadata": {
      "needs_background": "light"
     },
     "output_type": "display_data"
    }
   ],
   "source": [
    "df['Temp'].plot(ylabel='Temp (C)')"
   ]
  },
  {
   "cell_type": "code",
   "execution_count": 75,
   "id": "f0c4d76a",
   "metadata": {},
   "outputs": [],
   "source": [
    "split_point = int(df.shape[0]*.7)\n",
    "\n",
    "training_data = df[:split_point]\n",
    "test_data = df[split_point:]"
   ]
  },
  {
   "cell_type": "code",
   "execution_count": 76,
   "id": "818e105e",
   "metadata": {},
   "outputs": [],
   "source": [
    "gap = 7\n",
    "window_length = 5"
   ]
  },
  {
   "cell_type": "markdown",
   "id": "3234ae29",
   "metadata": {},
   "source": [
    "## Time Series Primitives\n",
    "\n",
    "### Datetime Transform Primitives"
   ]
  },
  {
   "cell_type": "code",
   "execution_count": null,
   "id": "0503e055",
   "metadata": {},
   "outputs": [],
   "source": []
  }
 ],
 "metadata": {
  "kernelspec": {
   "display_name": "feature-engineering",
   "language": "python",
   "name": "feature-engineering"
  },
  "language_info": {
   "codemirror_mode": {
    "name": "ipython",
    "version": 3
   },
   "file_extension": ".py",
   "mimetype": "text/x-python",
   "name": "python",
   "nbconvert_exporter": "python",
   "pygments_lexer": "ipython3",
   "version": "3.10.5"
  }
 },
 "nbformat": 4,
 "nbformat_minor": 5
}
